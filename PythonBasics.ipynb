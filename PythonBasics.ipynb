{
  "nbformat": 4,
  "nbformat_minor": 0,
  "metadata": {
    "colab": {
      "name": "PythonBasics.ipynb",
      "provenance": [],
      "authorship_tag": "ABX9TyN133fGqM9mlkwE7EkWpNJ1",
      "include_colab_link": true
    },
    "kernelspec": {
      "name": "python3",
      "display_name": "Python 3"
    }
  },
  "cells": [
    {
      "cell_type": "markdown",
      "metadata": {
        "id": "view-in-github",
        "colab_type": "text"
      },
      "source": [
        "<a href=\"https://colab.research.google.com/github/OmkarPatkar/Coursera-Programming-for-Everybody-Getting-Started-with-Python-/blob/master/PythonBasics.ipynb\" target=\"_parent\"><img src=\"https://colab.research.google.com/assets/colab-badge.svg\" alt=\"Open In Colab\"/></a>"
      ]
    },
    {
      "cell_type": "markdown",
      "metadata": {
        "id": "2iydE2s9X1zM",
        "colab_type": "text"
      },
      "source": [
        "#**Programming for Everybody (Getting Started with Python)**"
      ]
    },
    {
      "cell_type": "markdown",
      "metadata": {
        "id": "3iFOTDAlbOEK",
        "colab_type": "text"
      },
      "source": [
        "**ASSIGNMENT OF WEEK 3**"
      ]
    },
    {
      "cell_type": "markdown",
      "metadata": {
        "id": "u71QfuwaYLl5",
        "colab_type": "text"
      },
      "source": [
        "1.1 Write a program that uses a print statement to say 'hello world' as shown in 'Desired Output'."
      ]
    },
    {
      "cell_type": "code",
      "metadata": {
        "id": "s3Ew1gthYYuO",
        "colab_type": "code",
        "colab": {
          "base_uri": "https://localhost:8080/",
          "height": 34
        },
        "outputId": "37ca3665-474b-422d-e56e-483e97e73957"
      },
      "source": [
        "print(\"hello world\")"
      ],
      "execution_count": 1,
      "outputs": [
        {
          "output_type": "stream",
          "text": [
            "hello world\n"
          ],
          "name": "stdout"
        }
      ]
    },
    {
      "cell_type": "markdown",
      "metadata": {
        "id": "UZt4ExLGbjuV",
        "colab_type": "text"
      },
      "source": [
        "**ASSIGNMENT OF WEEK 4**"
      ]
    },
    {
      "cell_type": "markdown",
      "metadata": {
        "id": "w8DK8trRYjTR",
        "colab_type": "text"
      },
      "source": [
        "2.2 Write a program that uses input to prompt a user for their name and then welcomes them. Note that input will pop up a dialog box. Enter Sarah in the pop-up box when you are prompted so your output will match the desired output."
      ]
    },
    {
      "cell_type": "code",
      "metadata": {
        "id": "M6nA8wMDYrti",
        "colab_type": "code",
        "colab": {
          "base_uri": "https://localhost:8080/",
          "height": 51
        },
        "outputId": "5297dff2-3cd5-44c1-8430-0350ba6fdf8f"
      },
      "source": [
        "name = input(\"Enter your name: \")\n",
        "print(\"Hello\", name)"
      ],
      "execution_count": 2,
      "outputs": [
        {
          "output_type": "stream",
          "text": [
            "Enter your name: Sarah\n",
            "Hello Sarah\n"
          ],
          "name": "stdout"
        }
      ]
    },
    {
      "cell_type": "markdown",
      "metadata": {
        "id": "5ufAqgJeY7AT",
        "colab_type": "text"
      },
      "source": [
        "2.3 Write a program to prompt the user for hours and rate per hour using input to compute gross pay. Use 35 hours and a rate of 2.75 per hour to test the program (the pay should be 96.25). You should use input to read a string and float() to convert the string to a number. Do not worry about error checking or bad user data."
      ]
    },
    {
      "cell_type": "code",
      "metadata": {
        "id": "aCIWKoStZCby",
        "colab_type": "code",
        "colab": {
          "base_uri": "https://localhost:8080/",
          "height": 68
        },
        "outputId": "53b759bf-98f3-4ac7-ba9a-07102246c103"
      },
      "source": [
        "hrs = input(\"Enter Hours:\")\n",
        "rph = input(\"Enter rate per hour:\")\n",
        "hrs = float(hrs)\n",
        "rph = float(rph)\n",
        "pay = print(\"Pay:\", (hrs * rph))"
      ],
      "execution_count": 3,
      "outputs": [
        {
          "output_type": "stream",
          "text": [
            "Enter Hours:35\n",
            "Enter rate per hour:2.75\n",
            "Pay: 96.25\n"
          ],
          "name": "stdout"
        }
      ]
    },
    {
      "cell_type": "markdown",
      "metadata": {
        "id": "KmGzgDeLboKs",
        "colab_type": "text"
      },
      "source": [
        "**ASSIGNMENT OF WEEK 5**"
      ]
    },
    {
      "cell_type": "markdown",
      "metadata": {
        "id": "AEnIdnjeZOWQ",
        "colab_type": "text"
      },
      "source": [
        "3.1 Write a program to prompt the user for hours and rate per hour using input to compute gross pay. Pay the hourly rate for the hours up to 40 and 1.5 times the hourly rate for all hours worked above 40 hours. Use 45 hours and a rate of 10.50 per hour to test the program (the pay should be 498.75). You should use input to read a string and float() to convert the string to a number. Do not worry about error checking the user input - assume the user types numbers properly."
      ]
    },
    {
      "cell_type": "code",
      "metadata": {
        "id": "iAMaCdVbZYai",
        "colab_type": "code",
        "colab": {
          "base_uri": "https://localhost:8080/",
          "height": 68
        },
        "outputId": "c1a787d8-cae5-42e4-cb87-391eae7b7b52"
      },
      "source": [
        "h = float(input(\"Enter Hours:\"))\n",
        "r = float(input(\"Enter rate:\"))\n",
        "\n",
        "pay = h * r\n",
        "\n",
        "if pay > 40:\n",
        "    mul = h * r\n",
        "    b = (h - 40.0) * (r * 0.5)\n",
        "    op = mul + b\n",
        "else:\n",
        "    op = h * r\n",
        "    \n",
        "print(op)\n",
        "    "
      ],
      "execution_count": 4,
      "outputs": [
        {
          "output_type": "stream",
          "text": [
            "Enter Hours:45\n",
            "Enter rate:10.50\n",
            "498.75\n"
          ],
          "name": "stdout"
        }
      ]
    },
    {
      "cell_type": "markdown",
      "metadata": {
        "id": "sfL4KmLuZ1bC",
        "colab_type": "text"
      },
      "source": [
        "3.3 Write a program to prompt for a score between 0.0 and 1.0. If the score is out of range, print an error. If the score is between 0.0 and 1.0, print a grade using the following table:\n",
        "Score Grade\n",
        ">= 0.9 A\n",
        ">= 0.8 B\n",
        ">= 0.7 C\n",
        ">= 0.6 D\n",
        "< 0.6 F\n",
        "If the user enters a value out of range, print a suitable error message and exit. For the test, enter a score of 0.85."
      ]
    },
    {
      "cell_type": "code",
      "metadata": {
        "id": "arqp7jzWaATD",
        "colab_type": "code",
        "colab": {
          "base_uri": "https://localhost:8080/",
          "height": 51
        },
        "outputId": "10454722-d398-40dc-b6d0-5da293e4cd91"
      },
      "source": [
        "score = float(input(\"Enter Score: \"))\n",
        "\n",
        "if score >= 0.9:\n",
        "    print(\"A\")\n",
        "elif score >= 0.8:\n",
        "    print(\"B\")\n",
        "elif score >= 0.7:\n",
        "    print(\"C\")\n",
        "elif score >= 0.6:\n",
        "    print(\"D\")\n",
        "elif score < 0.6:\n",
        "    print(\"F\")\n",
        "else:\n",
        "    print(\"value out of range\")\n",
        "    quit()"
      ],
      "execution_count": 5,
      "outputs": [
        {
          "output_type": "stream",
          "text": [
            "Enter Score: 0.85\n",
            "B\n"
          ],
          "name": "stdout"
        }
      ]
    },
    {
      "cell_type": "markdown",
      "metadata": {
        "id": "V5RBUox_br7m",
        "colab_type": "text"
      },
      "source": [
        "**ASSIGNMENT OF WEEK 6**"
      ]
    },
    {
      "cell_type": "markdown",
      "metadata": {
        "id": "TQ0R6d2maPcH",
        "colab_type": "text"
      },
      "source": [
        "4.6 Write a program to prompt the user for hours and rate per hour using input to compute gross pay. Pay should be the normal rate for hours up to 40 and time-and-a-half for the hourly rate for all hours worked above 40 hours. Put the logic to do the computation of pay in a function called computepay() and use the function to do the computation. The function should return a value. Use 45 hours and a rate of 10.50 per hour to test the program (the pay should be 498.75). You should use input to read a string and float() to convert the string to a number. Do not worry about error checking the user input unless you want to - you can assume the user types numbers properly. Do not name your variable sum or use the sum() function."
      ]
    },
    {
      "cell_type": "code",
      "metadata": {
        "id": "HGJmH-BuaYQF",
        "colab_type": "code",
        "colab": {
          "base_uri": "https://localhost:8080/",
          "height": 68
        },
        "outputId": "ede0a17c-53db-4667-c84c-b2ef19cf96fb"
      },
      "source": [
        "def computepay(h,r):\n",
        "    if h>40:\n",
        "        rate = (r * 1.5) * (h - 40.0)\n",
        "        return ((h - 5)*r) + rate\n",
        "\n",
        "hrs = float(input(\"Enter Hours:\"))\n",
        "rt = float(input(\"Enter rate:\"))\n",
        "\n",
        "p = computepay(hrs,rt)\n",
        "\n",
        "print('Pay',p)"
      ],
      "execution_count": 6,
      "outputs": [
        {
          "output_type": "stream",
          "text": [
            "Enter Hours:45\n",
            "Enter rate:10.50\n",
            "Pay 498.75\n"
          ],
          "name": "stdout"
        }
      ]
    },
    {
      "cell_type": "markdown",
      "metadata": {
        "id": "zFo3pcNVbw8Y",
        "colab_type": "text"
      },
      "source": [
        "**ASSIGNMENT OF WEEK 7**"
      ]
    },
    {
      "cell_type": "markdown",
      "metadata": {
        "id": "KaxSZD9ha4Mb",
        "colab_type": "text"
      },
      "source": [
        "5.2 Write a program that repeatedly prompts a user for integer numbers until the user enters 'done'. Once 'done' is entered, print out the largest and smallest of the numbers. If the user enters anything other than a valid number catch it with a try/except and put out an appropriate message and ignore the number. Enter 7, 2, bob, 10, and 4 and match the output below."
      ]
    },
    {
      "cell_type": "code",
      "metadata": {
        "id": "Th5ib_OqYcwU",
        "colab_type": "code",
        "colab": {
          "base_uri": "https://localhost:8080/",
          "height": 170
        },
        "outputId": "f999d294-b87f-412b-fbb1-bdbd19eb4600"
      },
      "source": [
        "largest = None\n",
        "smallest = None\n",
        "the_list = []\n",
        "\n",
        "while True:\n",
        "    num = input(\"Enter a number: \")\n",
        "    if num == \"done\" : break\n",
        "    if len(num) < 1: break\n",
        "    try:\n",
        "      num = int(num)\n",
        "      the_list.append(num)\n",
        "    except:\n",
        "      print('Invalid input')\n",
        "\n",
        "smallest = min(the_list)\n",
        "largest = max(the_list)\n",
        " \n",
        "print(\"Maximum is\", largest)\n",
        "print(\"Minimum is\", smallest)"
      ],
      "execution_count": 7,
      "outputs": [
        {
          "output_type": "stream",
          "text": [
            "Enter a number: 7\n",
            "Enter a number: 2\n",
            "Enter a number: bob\n",
            "Invalid input\n",
            "Enter a number: 10\n",
            "Enter a number: 4\n",
            "Enter a number: done\n",
            "Maximum is 10\n",
            "Minimum is 2\n"
          ],
          "name": "stdout"
        }
      ]
    },
    {
      "cell_type": "code",
      "metadata": {
        "id": "OimqQGUoa-Od",
        "colab_type": "code",
        "colab": {}
      },
      "source": [
        ""
      ],
      "execution_count": 0,
      "outputs": []
    }
  ]
}